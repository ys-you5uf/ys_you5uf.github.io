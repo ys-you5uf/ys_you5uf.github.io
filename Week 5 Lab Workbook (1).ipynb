{
 "cells": [
  {
   "cell_type": "markdown",
   "metadata": {},
   "source": [
    "<h1> MTH4000 Programming in Python I</h1>\n",
    "<h2> Week 5 Lab Workbook</h2>\n",
    "<h3><em> Dr Matthew Lewis and Prof. Thomas Prellberg </em></h3>"
   ]
  },
  {
   "cell_type": "markdown",
   "metadata": {},
   "source": [
    "<h2> Exercise 1: <em>Logical Operators</em> </h2>\n",
    "\n",
    "In the lecture notes, we saw logical operators that acted on pairs of boolean values to produce other booleans.  One such operator was <code><span style=\"color:rgb(0,128,0);font-weight:bold;\">and</span></code>.\n",
    "\n",
    "Since there are only two distinct boolean values (<code><span style=\"color:rgb(0,128,0);font-weight:bold;\">True</span></code> and <code><span style=\"color:rgb(0,128,0);font-weight:bold;\">False</span></code>), and there are two arguments in each call using the <code><span style=\"color:rgb(0,128,0);font-weight:bold;\">and</span></code> operator, there will be $2\\times 2=4$ combinations that define the effect of this operator. Compute and print the truth value of these four combinations."
   ]
  },
  {
   "cell_type": "code",
   "execution_count": null,
   "metadata": {},
   "outputs": [],
   "source": []
  },
  {
   "cell_type": "markdown",
   "metadata": {},
   "source": [
    "We can collate this data into a truth table.  This effectively gives a definition of the <code><span style=\"color:rgb(0,128,0);font-weight:bold;\">and</span></code> operator.\n",
    "\n",
    "| A | B | B and A |\n",
    "|---|---|---|\n",
    "| True | True | True |\n",
    "| True | False | False |\n",
    "| False | True | False |\n",
    "| False | False | False |\n",
    "\n",
    "The implies operator (sometimes denoted with the symbol <samp>⇒</samp> ) is not implemented in a standard Python environment.  It can be defined with the following truth table:\n",
    "\n",
    "| A | B | A ⇒ B |\n",
    "|---|---|---|\n",
    "| True | True | True |\n",
    "| True | False | False |\n",
    "| False | True | True |\n",
    "| False | False | True |\n",
    "\n",
    "Using built-in logical operators, verify that for any boolean values <samp>A</samp> and <samp>B</samp>, the statement <samp>A&nbsp;⇒&nbsp;B</samp> is equivalent to the statement <samp>B&nbsp;or&nbsp;not&nbsp;A</samp>."
   ]
  },
  {
   "cell_type": "code",
   "execution_count": null,
   "metadata": {},
   "outputs": [],
   "source": []
  },
  {
   "cell_type": "markdown",
   "metadata": {},
   "source": [
    "Use these operations to construct our own function <code>implies</code> that will accept any two boolean values, <code>A</code> and <code>B</code>, and return the boolean value of the statement <samp><code>A</code>&nbsp;⇒&nbsp;<code>B</code></samp>."
   ]
  },
  {
   "cell_type": "code",
   "execution_count": null,
   "metadata": {},
   "outputs": [],
   "source": []
  },
  {
   "cell_type": "markdown",
   "metadata": {},
   "source": [
    "Test this function by calling it for all four combinations of boolean values that can be returned to <code>A</code> and <code>B</code>."
   ]
  },
  {
   "cell_type": "code",
   "execution_count": null,
   "metadata": {},
   "outputs": [],
   "source": []
  },
  {
   "cell_type": "markdown",
   "metadata": {},
   "source": [
    "Now write a function <code>not_implies</code> that, for any booleans <code>A</code> and <code>B</code>, returns the negation of the call <code>implies(A, B)</code>."
   ]
  },
  {
   "cell_type": "code",
   "execution_count": null,
   "metadata": {},
   "outputs": [],
   "source": []
  },
  {
   "cell_type": "markdown",
   "metadata": {},
   "source": [
    "Test this function with all four combinations of inputs."
   ]
  },
  {
   "cell_type": "code",
   "execution_count": null,
   "metadata": {},
   "outputs": [],
   "source": []
  },
  {
   "cell_type": "markdown",
   "metadata": {},
   "source": [
    "We now wish to test out these function by applying them to mathematical results (results that use implications).\n",
    "\n",
    "For integers $a, m\\in\\mathbb{Z}$, we say that $a$ divides $m$ (and write $a|m$) if there exists some $k\\in\\mathbb{Z}$ such that $m=ka$.\n",
    "\n",
    "Write a function <code>divides</code> which accepts two integers, <code>a</code> and <code>m</code>, and returns a boolean corresponding to the truth value of the statement '<code>a</code> divides <code>m</code>'."
   ]
  },
  {
   "cell_type": "code",
   "execution_count": null,
   "metadata": {},
   "outputs": [],
   "source": []
  },
  {
   "cell_type": "markdown",
   "metadata": {},
   "source": [
    "Test that this function works by evaluating it for one combinations of integers that results in <code><span style=\"color:rgb(0,128,0);font-weight:bold;\">True</span></code> being returned, and one combination that gives <code><span style=\"color:rgb(0,128,0);font-weight:bold;\">False</span></code>."
   ]
  },
  {
   "cell_type": "code",
   "execution_count": null,
   "metadata": {},
   "outputs": [],
   "source": []
  },
  {
   "cell_type": "markdown",
   "metadata": {},
   "source": [
    "Observe the following result:\n",
    "\n",
    "<blockquote><b>Theorem:</b> Let $a, b, m, n\\in\\mathbb{Z}$.\n",
    "\n",
    "If $\\,a|m\\,$ and $\\,b|n\\,$, then $\\,ab|mn\\,$.</blockquote>\n",
    "\n",
    "According to this result, the statement\n",
    "\n",
    "<blockquote>If <samp>7</samp> divides <samp>14</samp> and <samp>2</samp> divides <samp>4</samp>, then <samp>14</samp> divides <samp>56</samp>.</blockquote>\n",
    "\n",
    "is true, as is the statement\n",
    "\n",
    "<blockquote>If <samp>7</samp> divides <samp>14</samp> and <samp>2</samp> divides <samp>3</samp>, then <samp>14</samp> divides <samp>42</samp>.</blockquote>\n",
    "\n",
    "Using the <code>implies</code> and <code>divides</code> functions defined above, write a function <code>test_theorem</code> that accepts four integers, <code>a</code>, <code>b</code>, <code>m</code> and <code>n</code>, and returns the boolean value of the statement given in the above theorem."
   ]
  },
  {
   "cell_type": "code",
   "execution_count": null,
   "metadata": {},
   "outputs": [],
   "source": []
  },
  {
   "cell_type": "markdown",
   "metadata": {},
   "source": [
    "Test this function by calling it for a few well-chosen examples."
   ]
  },
  {
   "cell_type": "code",
   "execution_count": null,
   "metadata": {},
   "outputs": [],
   "source": []
  },
  {
   "cell_type": "markdown",
   "metadata": {},
   "source": [
    "Now consider the following claim, which is different from the result shown above:\n",
    "\n",
    "<blockquote><b>Claim:</b> Let $a, b, n\\in\\mathbb{Z}$.\n",
    "\n",
    "If $\\,a|n\\,$ and $\\,b|n\\,$, then $\\,ab|n\\,$.</blockquote>\n",
    "\n",
    "Write a function <code>test_claim</code> that accepts three integers, <code>a</code>, <code>b</code> and <code>n</code>, and returns the boolean value of the statement given in the above claim."
   ]
  },
  {
   "cell_type": "code",
   "execution_count": null,
   "metadata": {},
   "outputs": [],
   "source": []
  },
  {
   "cell_type": "markdown",
   "metadata": {},
   "source": [
    "Find at least one combination of integers <code>a</code>, <code>b</code> and <code>n</code> such that the function <code>test_claim</code> returns a boolean value of <code><span style=\"color:rgb(0,128,0);font-weight:bold;\">False</span></code>."
   ]
  },
  {
   "cell_type": "code",
   "execution_count": null,
   "metadata": {},
   "outputs": [],
   "source": []
  },
  {
   "cell_type": "markdown",
   "metadata": {},
   "source": [
    "Since this function returns the truth value of the above claim (for the called values of $a$, $b$ and $n$), this <code><span style=\"color:rgb(0,128,0);font-weight:bold;\">False</span></code> output disproves the statement."
   ]
  },
  {
   "cell_type": "markdown",
   "metadata": {},
   "source": [
    "<h2> Exercise 2: <em>Roots of Cubics</em> </h2>\n",
    "\n",
    "The discriminant of the cubic polynomial given by $\\,p(x)=ax^3+bx^2+cx+d\\,$ is\n",
    "\n",
    "$$\\Delta=b^2c^2-4ac^3-4b^3d-27a^2d^2+18abcd\\;.$$\n",
    "\n",
    "The discriminant gives us information about the roots of $p$:\n",
    "<ul>\n",
    "    <li>if $\\Delta>0$, then $p$ has 3 distinct real roots;</li>\n",
    "    <li>if $\\Delta<0$, then $p$ has 2 distinct complex roots and 1 real root;</li>\n",
    "    <li>if $\\Delta=0$, then $p$ has 3 real roots, at least 2 of which are the same.</li>\n",
    "</ul>\n",
    "\n",
    "Any cubic polynomial $\\,p(x)=ax^3+bx^2+cx+d\\,$ can be represented by its coefficients $a, b, c, d$.  For example, the polynomial $p(x)=x^3-x+1$ can be represented by the values $1, 0, -1, 1$.\n",
    "\n",
    "Write a function <code>has_three_real_roots</code> that accepts four floats <code>a</code>, <code>b</code>, <code>c</code> and <code>d</code> that are representative of the coefficients of a cubic polynomial, and returns a value of <code><span style=\"color:rgb(0,128,0);font-weight:bold;\">True</span></code> if the corresponding cubic has 3 distinct real roots, and <code><span style=\"color:rgb(0,128,0);font-weight:bold;\">False</span></code> otherwise."
   ]
  },
  {
   "cell_type": "code",
   "execution_count": null,
   "metadata": {},
   "outputs": [],
   "source": []
  },
  {
   "cell_type": "markdown",
   "metadata": {},
   "source": [
    "Test this function on the polynomials\n",
    "\n",
    "<ol>\n",
    "    <li>$\\: x^3$</li>\n",
    "    <li>$\\: x(1-x)^2$</li>\n",
    "    <li>$\\: x^3-x+1$</li>\n",
    "    <li>$\\: x^3-x$</li>\n",
    "</ol>"
   ]
  },
  {
   "cell_type": "code",
   "execution_count": null,
   "metadata": {},
   "outputs": [],
   "source": []
  },
  {
   "cell_type": "markdown",
   "metadata": {},
   "source": [
    "<h2> Exercise 3: <em>Moon-te Carlo Methods</em> </h2>\n",
    "\n",
    "A Monte Carlo method is an algorithm that approximates the area of a region by taking a large sample of uniformly distributed points over an area that covers that region, and evaluating the proportion of points that fall inside it.\n",
    "\n",
    "For instance, consider the region bounded by the following condition:\n",
    "\n",
    "$$x^2+y^2\\leq 1\\: .$$\n",
    "\n",
    "This region is shown shaded in white in the plot below."
   ]
  },
  {
   "cell_type": "code",
   "execution_count": null,
   "metadata": {
    "ExecuteTime": {
     "end_time": "2023-10-09T17:47:38.527080Z",
     "start_time": "2023-10-09T17:47:37.775428Z"
    }
   },
   "outputs": [],
   "source": [
    "import numpy as np\n",
    "from matplotlib import pyplot as plt\n",
    "\n",
    "x = np.linspace(-1, 1, 100)\n",
    "y1 = (1-x**2)**0.5\n",
    "y2 = -(1-x**2)**0.5\n",
    "\n",
    "plt.plot(x, y1, color = 'white')\n",
    "plt.plot(x, y2, color = 'white')\n",
    "ax = plt.gca()\n",
    "ax.axis('equal')\n",
    "ax.set_facecolor('black')\n",
    "ax.fill_between(x, y1, y2, facecolor = 'white')\n",
    "plt.show()"
   ]
  },
  {
   "cell_type": "markdown",
   "metadata": {},
   "source": [
    "It should be clear that this boundary is a circle of radius $1$, and so a Monte Carlo method should return a value approximately equal to $\\pi$.\n",
    "\n",
    "The region is covered by the set $[-1,1]\\times[-1,1]$, which is a square of area $4$.  \n",
    "\n",
    "Therefore, if we take a large number of uniformly distributed points over the square $[-1,1]\\times[-1,1]$, the proportion of the points that lie inside the region should be approximately equal to a quarter of the region's area."
   ]
  },
  {
   "cell_type": "code",
   "execution_count": null,
   "metadata": {
    "ExecuteTime": {
     "end_time": "2023-10-09T17:47:38.541413Z",
     "start_time": "2023-10-09T17:47:38.528125Z"
    }
   },
   "outputs": [],
   "source": [
    "from random import uniform\n",
    "\n",
    "# Create a list of 10000 points (x,y) that are uniformly distributed\n",
    "# in the square [-1,1]*[-1,1]\n",
    "points = [(uniform(-1,1),uniform(-1,1)) for i in range(10000)]"
   ]
  },
  {
   "cell_type": "markdown",
   "metadata": {},
   "source": [
    "Define a function <code>inside_circle</code> that accepts a tuple <code>x</code> corresponding to the coordinates of a point in the set $[-1,1]\\times[-1,1]$, and returns <samp>1</samp> if the point <code>x</code> lies inside the circle $x^2+y^2=1\\,$, and <samp>0</samp> otherwise."
   ]
  },
  {
   "cell_type": "code",
   "execution_count": null,
   "metadata": {},
   "outputs": [],
   "source": []
  },
  {
   "cell_type": "markdown",
   "metadata": {},
   "source": [
    "Use this function to find the proportion of points inside the list <code>points</code> that lie inside the circle $x^2+y^2=1$, then use this proportion to find an estimate for $\\pi$."
   ]
  },
  {
   "cell_type": "code",
   "execution_count": null,
   "metadata": {
    "ExecuteTime": {
     "end_time": "2023-10-09T17:47:38.555163Z",
     "start_time": "2023-10-09T17:47:38.542776Z"
    }
   },
   "outputs": [],
   "source": []
  },
  {
   "cell_type": "markdown",
   "metadata": {},
   "source": [
    "Now consider the region bounded by the conditions:\n",
    "\n",
    "$$\\begin{align*}\n",
    "x^2+y^2 &\\leq 9\\\\\n",
    "\\text{and}\\qquad 3x^2+y^2 &\\geq 9\n",
    "\\end{align*}$$\n",
    "\n",
    "This region is shown shaded in white in the plot below."
   ]
  },
  {
   "cell_type": "code",
   "execution_count": null,
   "metadata": {
    "ExecuteTime": {
     "end_time": "2023-10-09T17:47:38.698594Z",
     "start_time": "2023-10-09T17:47:38.557171Z"
    }
   },
   "outputs": [],
   "source": [
    "y=np.linspace(-3,3,100)\n",
    "x1=-(9-y**2)**0.5\n",
    "x2=-(1/3**0.5)*(9-y**2)**0.5\n",
    "\n",
    "plt.plot(x1,y,color='white')\n",
    "plt.plot(x2,y,color='white')\n",
    "ax=plt.gca()\n",
    "ax.axis('equal')\n",
    "ax.set_facecolor('black')\n",
    "ax.fill_between(x1,y,facecolor='white')\n",
    "ax.fill_between(x2,y,facecolor='black',edgecolor='black')\n",
    "plt.show()"
   ]
  },
  {
   "cell_type": "markdown",
   "metadata": {},
   "source": [
    "In the box below, define a new list <code>points</code> containing <samp>10000</samp> uniformly distributed points that cover the rectangle $[-3,0]\\times[-3,3]$.\n",
    "\n",
    "Also, define a function <code>inside_crescent</code> that accepts a point <code>x</code> in this rectangle, and returns a value of <samp>1</samp> if <code>x</code> lies inside the crescent, and $0$ otherwise."
   ]
  },
  {
   "cell_type": "code",
   "execution_count": null,
   "metadata": {
    "ExecuteTime": {
     "end_time": "2023-10-09T17:47:38.712467Z",
     "start_time": "2023-10-09T17:47:38.700607Z"
    }
   },
   "outputs": [],
   "source": []
  },
  {
   "cell_type": "markdown",
   "metadata": {},
   "source": [
    "Once you have done this, apply `inside_crescent` to the list `points` to find an approximation of the area enclosed by the crescent."
   ]
  },
  {
   "cell_type": "code",
   "execution_count": null,
   "metadata": {
    "ExecuteTime": {
     "end_time": "2023-10-09T17:47:38.729991Z",
     "start_time": "2023-10-09T17:47:38.714479Z"
    }
   },
   "outputs": [],
   "source": []
  },
  {
   "cell_type": "markdown",
   "metadata": {},
   "source": [
    "Note that for any ellipse given by\n",
    "\n",
    "$$\\left(\\frac{x}{a}\\right)^2+\\left(\\frac{y}{b}\\right)^2=1\\:,$$\n",
    "\n",
    "the enclosed area is equal to $\\pi a b$.\n",
    "\n",
    "We can therefore evaluate the exact area of the above crescent to be\n",
    "\n",
    "$$\\frac{3\\pi}{2}\\left(3-\\sqrt{3}\\right)\\;.$$\n",
    "\n",
    "Compute this value in the box below to determine whether it closely matches the value you computed above."
   ]
  },
  {
   "cell_type": "code",
   "execution_count": null,
   "metadata": {
    "ExecuteTime": {
     "end_time": "2023-10-09T17:47:38.738627Z",
     "start_time": "2023-10-09T17:47:38.733002Z"
    }
   },
   "outputs": [],
   "source": []
  },
  {
   "cell_type": "markdown",
   "metadata": {},
   "source": [
    "<h2> Feedback </h2>\n",
    "\n",
    "Attempt all of these questions during Week 5. This worksheet will be discussed in detail on a Lab Walkthrough video to be posted to QMplus at the end of the week.\n",
    "\n",
    "If you have any problems or questions, or simply you would like some feedback, then you can:\n",
    "\n",
    "<ul>\n",
    "    <li> Ask the tutors present in your IT Lab sessions.</li><br>\n",
    "    <li> Ask the Student Forum on the module's QM Plus page.</li><br>\n",
    "    <li> Email the lecturers for assistance.</li>\n",
    "</ul>"
   ]
  }
 ],
 "metadata": {
  "kernelspec": {
   "display_name": "Python 3 (ipykernel)",
   "language": "python",
   "name": "python3"
  },
  "language_info": {
   "codemirror_mode": {
    "name": "ipython",
    "version": 3
   },
   "file_extension": ".py",
   "mimetype": "text/x-python",
   "name": "python",
   "nbconvert_exporter": "python",
   "pygments_lexer": "ipython3",
   "version": "3.11.3"
  }
 },
 "nbformat": 4,
 "nbformat_minor": 4
}
